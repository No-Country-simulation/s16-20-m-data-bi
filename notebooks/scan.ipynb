{
 "cells": [
  {
   "cell_type": "code",
   "execution_count": 2,
   "metadata": {},
   "outputs": [],
   "source": [
    "import requests\n",
    "import pandas as pd"
   ]
  },
  {
   "cell_type": "code",
   "execution_count": 59,
   "metadata": {},
   "outputs": [],
   "source": [
    "#Rango de fecha de datos: 1973-01-01  ->  2024-07-02\n",
    "\n",
    "params = {\n",
    "    'dataset': 'daily-summaries',\n",
    "    'startDate': '1974-01-01',\n",
    "    'endDate': '2024-07-02',\n",
    "    'stations': 'AR000087418',  #Mendoza Aereo\n",
    "    'format': 'json',\n",
    "    'includeStationName': 'true',\n",
    "}\n",
    "\n",
    "\n",
    "url=f\"https://www.ncei.noaa.gov/access/services/data/v1\"\n"
   ]
  },
  {
   "cell_type": "code",
   "execution_count": 60,
   "metadata": {},
   "outputs": [],
   "source": [
    "response=requests.get(url,params=params)\n"
   ]
  },
  {
   "cell_type": "code",
   "execution_count": 61,
   "metadata": {},
   "outputs": [],
   "source": [
    "if response.status_code==200:\n",
    "    info=response.json()\n",
    "else:\n",
    "    print(f\"Estatus data 1:-> {response.status_code}\")"
   ]
  },
  {
   "cell_type": "code",
   "execution_count": 62,
   "metadata": {},
   "outputs": [],
   "source": [
    "\n",
    "data=pd.DataFrame(info)\n",
    "\n",
    "#Por si quieren generar la data en csv\n",
    "#data.to_csv('datos_mendoza_air')"
   ]
  }
 ],
 "metadata": {
  "kernelspec": {
   "display_name": "Python 3",
   "language": "python",
   "name": "python3"
  },
  "language_info": {
   "codemirror_mode": {
    "name": "ipython",
    "version": 3
   },
   "file_extension": ".py",
   "mimetype": "text/x-python",
   "name": "python",
   "nbconvert_exporter": "python",
   "pygments_lexer": "ipython3",
   "version": "3.10.5"
  }
 },
 "nbformat": 4,
 "nbformat_minor": 2
}
